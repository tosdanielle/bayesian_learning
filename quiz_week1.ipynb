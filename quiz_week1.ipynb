{
 "cells": [
  {
   "cell_type": "markdown",
   "metadata": {},
   "source": [
    "## Quiz Examples/Questions (week 1)"
   ]
  },
  {
   "cell_type": "code",
   "execution_count": 1,
   "metadata": {},
   "outputs": [],
   "source": [
    "import numpy as np\n",
    "import matplotlib.pyplot as plt\n",
    "\n",
    "from scipy.stats import binom"
   ]
  },
  {
   "cell_type": "code",
   "execution_count": 2,
   "metadata": {},
   "outputs": [],
   "source": [
    "# Calculate likelihood based on binomial distribuition\n",
    "def binomial_likelihood(k, n, p): \n",
    "    likelihood = []\n",
    "    for probability in p: \n",
    "        l = binom.pmf(k, n, probability)\n",
    "        likelihood.append(l)\n",
    "    return likelihood"
   ]
  },
  {
   "cell_type": "code",
   "execution_count": 8,
   "metadata": {},
   "outputs": [],
   "source": [
    "# Calculate posterior\n",
    "def calculate_posterior(likelihood, priors): \n",
    "    posterior = []\n",
    "    numerator = []\n",
    "    denominator = 0\n",
    "    sum_posterior = 0\n",
    "\n",
    "    for idx, l in enumerate(likelihood): \n",
    "        n = l*priors[idx]\n",
    "        numerator.append(n)\n",
    "        denominator += n\n",
    "\n",
    "    for n in numerator: \n",
    "        post = n/denominator\n",
    "        posterior.append(post)\n",
    "        sum_posterior += post\n",
    "    return posterior"
   ]
  },
  {
   "cell_type": "markdown",
   "metadata": {},
   "source": [
    "***\n",
    "> You are told that a coin has one of the following, with the probability of heads under that event noted next to it in parentheses:    \n",
    "> - a strong tails bias (p = 0.2)   \n",
    "> - a weak tails bias (p = 0.4)   \n",
    "> - no bias (p = 0.5)   \n",
    "> - a weak heads bias (p = 0.6)   \n",
    "> - a strong heads bias (p = 0.8)   \n",
    "> You assign a prior probability of 1/2 that the coin is fair and distribute the remaining 1/2 prior probability equally over the other four possible scenarios. You flip the coin three times and it comes up heads all three times. What is the posterior probability that the coin is biased towards heads?"
   ]
  },
  {
   "cell_type": "code",
   "execution_count": 18,
   "metadata": {},
   "outputs": [
    {
     "data": {
      "text/plain": [
       "[0.008000000000000004,\n",
       " 0.06400000000000002,\n",
       " 0.12500000000000003,\n",
       " 0.21599999999999997,\n",
       " 0.5120000000000001]"
      ]
     },
     "execution_count": 18,
     "metadata": {},
     "output_type": "execute_result"
    }
   ],
   "source": [
    "priors = [0.125, 0.125, 0.5, 0.125, 0.125] \n",
    "p = [0.2, 0.4, 0.5, 0.6, 0.8]\n",
    "likelihood = binomial_likelihood(3, 3, p)\n",
    "likelihood"
   ]
  },
  {
   "cell_type": "code",
   "execution_count": 20,
   "metadata": {},
   "outputs": [
    {
     "data": {
      "text/plain": [
       "[0.006153846153846156,\n",
       " 0.04923076923076923,\n",
       " 0.38461538461538464,\n",
       " 0.1661538461538461,\n",
       " 0.39384615384615385]"
      ]
     },
     "execution_count": 20,
     "metadata": {},
     "output_type": "execute_result"
    }
   ],
   "source": [
    "posterior = calculate_posterior(likelihood, priors)\n",
    "posterior"
   ]
  },
  {
   "cell_type": "markdown",
   "metadata": {},
   "source": [
    "Strong heads bias + Weak heads bias = Bias towards head    \n",
    "0.3938 + 0.1661 $\\approx$ 0.56\n"
   ]
  },
  {
   "cell_type": "markdown",
   "metadata": {},
   "source": [
    "***\n",
    "> Julia is having an outdoor wedding ceremony tomorrow. In recent years, it has rained on average 50 days per year. Unfortunately, the meteorologist has predicted rain for her wedding day. When it rains, the meteorologist will have correctly predicted it 80 percent of the time. When it does not rain, the meteorologist will have incorrectly predicted rain 30 percent of the time. Given this information, what is the probability that it rains on Julia's wedding day?"
   ]
  },
  {
   "cell_type": "markdown",
   "metadata": {},
   "source": [
    "Need to include figure (decision)"
   ]
  },
  {
   "cell_type": "markdown",
   "metadata": {},
   "source": [
    "*** \n",
    "> A New York City cab was involved in a hit-and-run accident last night. Five witnesses reported the incident, four of whom said that the cab was green and one of whom said that the cab was yellow. Assume each witness correctly identifies the color of a cab with probability 2/3. It is known that 85% of registered cabs in New York City are yellow and 15% are green. Based on this information, what is the probability that the cab was green?\n"
   ]
  },
  {
   "cell_type": "markdown",
   "metadata": {},
   "source": [
    "Understanding the problem:    \n",
    "    \n",
    "In this example, 4 people out of 5 saw the cab as green so we have n=5 and k=4.    \n",
    "Our prior beliefs of the cab being green or yellow are respectively: 0.15 and 0.85   \n",
    "The probability associated with the witness identifying the car color correctly is 2/3.   \n",
    "\n",
    "This can be translated to:    \n",
    "n=5, k=4, p=2/3 and prior=0.15 "
   ]
  },
  {
   "cell_type": "code",
   "execution_count": 12,
   "metadata": {},
   "outputs": [
    {
     "data": {
      "text/plain": [
       "[0.32921810699588466, 0.041152263374485576]"
      ]
     },
     "execution_count": 12,
     "metadata": {},
     "output_type": "execute_result"
    }
   ],
   "source": [
    "likelihood = binomial_likelihood(4,5, [2./3., 1./3.])\n",
    "likelihood"
   ]
  },
  {
   "cell_type": "code",
   "execution_count": 13,
   "metadata": {},
   "outputs": [
    {
     "data": {
      "text/plain": [
       "[0.5853658536585367, 0.41463414634146334]"
      ]
     },
     "execution_count": 13,
     "metadata": {},
     "output_type": "execute_result"
    }
   ],
   "source": [
    "priors = [0.15, 0.85]\n",
    "posterior = calculate_posterior(likelihood, priors)\n",
    "posterior"
   ]
  },
  {
   "cell_type": "markdown",
   "metadata": {},
   "source": [
    "Posterior $\\approx$ 0.58"
   ]
  },
  {
   "cell_type": "markdown",
   "metadata": {},
   "source": [
    "***\n",
    "> You go to Las Vegas and sit down at a slot machine. You are told by a highly reliable source that, for each spin, the probability of hitting the jackpot is either 1 in 1,000 or 1 in 1,000,000, but you have no prior information to tell you which of the two it is. You play ten times, but do not win the jackpot. What is the posterior probability that the true odds of hitting the jackpot are 1 in 1,000?"
   ]
  },
  {
   "cell_type": "markdown",
   "metadata": {},
   "source": [
    "**Hypotheses:** $H_1$: 0.001  $\\qquad$ $H_2$: 0.000001     \n",
    "**Prior:** $P(H_1)$=0.5 $\\qquad$  $P(H_2)$=0.5    \n",
    "Since we don't have any reason to believe one hypotheses is more likely than the other, we can place a 0.5 probability on each one.    "
   ]
  },
  {
   "cell_type": "code",
   "execution_count": 10,
   "metadata": {},
   "outputs": [
    {
     "data": {
      "text/plain": [
       "[0.9900448802097482, 0.9999900000449998]"
      ]
     },
     "execution_count": 10,
     "metadata": {},
     "output_type": "execute_result"
    }
   ],
   "source": [
    "priors = [0.5, 0.5]\n",
    "likelihood = binomial_likelihood(0,10, [0.001, 0.000001])\n",
    "likelihood"
   ]
  },
  {
   "cell_type": "code",
   "execution_count": 11,
   "metadata": {},
   "outputs": [
    {
     "data": {
      "text/plain": [
       "[0.49750126996920313, 0.5024987300307969]"
      ]
     },
     "execution_count": 11,
     "metadata": {},
     "output_type": "execute_result"
    }
   ],
   "source": [
    "posterior = calculate_posterior(likelihood, priors)\n",
    "posterior"
   ]
  },
  {
   "cell_type": "markdown",
   "metadata": {},
   "source": [
    "***\n",
    "> You decide to conduct a statistical analysis of a lottery to determine how many possible lottery combinations there were. If there are N possible lottery combinations, each person has a 1/N chance of winning. Suppose that 413,271,201 people played the lottery and three people won. You are told that the number of lottery combinations is a multiple of 100 million and less than 1 billion, but have no other prior information to go on. What is the posterior probability that there were fewer than 600 million lottery combinations?"
   ]
  },
  {
   "cell_type": "code",
   "execution_count": 22,
   "metadata": {},
   "outputs": [
    {
     "data": {
      "text/plain": [
       "[0.18868617897428305,\n",
       " 0.18623320340460062,\n",
       " 0.10988008982130686,\n",
       " 0.06541398851936421,\n",
       " 0.04117952113076139,\n",
       " 0.027350463308820804,\n",
       " 0.019004567284508906,\n",
       " 0.013706683822420287,\n",
       " 0.010195365504294856]"
      ]
     },
     "execution_count": 22,
     "metadata": {},
     "output_type": "execute_result"
    }
   ],
   "source": [
    "likelihood = binomial_likelihood(3, 413271201, [1./100000000, \n",
    "                                                1./200000000, \n",
    "                                                1./300000000, \n",
    "                                                1./400000000, \n",
    "                                                1./500000000,\n",
    "                                                1./600000000,\n",
    "                                                1./700000000,\n",
    "                                                1./800000000,\n",
    "                                                1./900000000])\n",
    "likelihood"
   ]
  },
  {
   "cell_type": "code",
   "execution_count": 23,
   "metadata": {},
   "outputs": [
    {
     "data": {
      "text/plain": [
       "[0.28517518530780456,\n",
       " 0.2814678244060024,\n",
       " 0.16606979454865214,\n",
       " 0.09886493223372123,\n",
       " 0.062237613974641434,\n",
       " 0.041336750178243516,\n",
       " 0.028722988755806724,\n",
       " 0.02071591104479858,\n",
       " 0.015408999550329311]"
      ]
     },
     "execution_count": 23,
     "metadata": {},
     "output_type": "execute_result"
    }
   ],
   "source": [
    "posterior = calculate_posterior(likelihood, [0.111, 0.111, 0.111, 0.111, 0.111, 0.111, 0.111, 0.111, 0.111])\n",
    "posterior"
   ]
  },
  {
   "cell_type": "markdown",
   "metadata": {},
   "source": [
    "Being less than 600 million: "
   ]
  },
  {
   "cell_type": "code",
   "execution_count": 26,
   "metadata": {},
   "outputs": [
    {
     "data": {
      "text/plain": [
       "0.8938153504708217"
      ]
     },
     "execution_count": 26,
     "metadata": {},
     "output_type": "execute_result"
    }
   ],
   "source": [
    "result = 0\n",
    "for idx, r in enumerate(posterior): \n",
    "    if idx == 5: \n",
    "        break\n",
    "    result += r\n",
    "result    "
   ]
  },
  {
   "cell_type": "markdown",
   "metadata": {},
   "source": [
    "Using a more intuitive approach:   \n",
    "Likelihood can be expressed by P(3 winners out of 413271201 | Fewer than 600 million lottery combinations)   \n",
    "    \n",
    "binom.pmf(3,413271201,1/100000000) + binom.pmf(3,413271201,1/200000000) + binom.pmf(3,413271201,1/300000000) + binom.pmf(3,413271201,1/400000000) + binom.pmf(3,413271201,1/500000000) $\\approx$ 0.59\n",
    "     \n",
    "Since we don't have any other information about our prior, we can assume that the chances of any of the combinations are equally possible to occur: 1/9    \n",
    "We still have to compute the denominator for the posterior, which will be the sum of all possible lottery combinations at the binomial distribuition times the prior. \n"
   ]
  },
  {
   "cell_type": "markdown",
   "metadata": {},
   "source": [
    "*** \n",
    "> You are testing dice for a casino to make sure that sixes do not come up more frequently than expected. Because you do not want to manually roll dice all day, you design a machine to roll a die repeatedly and record the number of sixes that come face up. In order to do a Bayesian analysis to test the hypothesis that p = 1/6 versus p = .175 , you set the machine to roll the die 6000 times. When you come back at the end of the day, you discover to your horror that the machine was unable to count higher than 999. The machine says that 999 sixes occurred. Given a prior probability of 0.8 placed on the hypothesis p = 1/6 , what is the posterior probability that the die is fair, given the censored data? "
   ]
  },
  {
   "cell_type": "markdown",
   "metadata": {},
   "source": [
    "Hint - to find the probability that at least x sixes occurred in N trials with proportion p (which is the likelihood in this problem), use the R command : 1-pbinom(x-1,N,p)"
   ]
  },
  {
   "cell_type": "code",
   "execution_count": 35,
   "metadata": {},
   "outputs": [
    {
     "data": {
      "text/plain": [
       "[0.7982270289973356, 0.20177297100266445]"
      ]
     },
     "execution_count": 35,
     "metadata": {},
     "output_type": "execute_result"
    }
   ],
   "source": [
    "#H_1 = 1./6. prior = 0.8 \n",
    "#H_2 = .175 prior = 0.2 \n",
    "#n = 6000 k = 999 \n",
    "\n",
    "priors = [0.8, 0.2]\n",
    "likelihood = np.array(binomial_likelihood(998,6000, [1./6., 0.175]))\n",
    "likelihood = 1 - likelihood\n",
    " \n",
    "posterior = calculate_posterior(likelihood, priors)\n",
    "posterior"
   ]
  },
  {
   "cell_type": "code",
   "execution_count": null,
   "metadata": {},
   "outputs": [],
   "source": []
  }
 ],
 "metadata": {
  "kernelspec": {
   "display_name": "Python 3",
   "language": "python",
   "name": "python3"
  },
  "language_info": {
   "codemirror_mode": {
    "name": "ipython",
    "version": 3
   },
   "file_extension": ".py",
   "mimetype": "text/x-python",
   "name": "python",
   "nbconvert_exporter": "python",
   "pygments_lexer": "ipython3",
   "version": "3.6.5"
  }
 },
 "nbformat": 4,
 "nbformat_minor": 2
}
